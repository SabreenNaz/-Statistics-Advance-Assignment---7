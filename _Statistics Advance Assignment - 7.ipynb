{
 "cells": [
  {
   "cell_type": "markdown",
   "id": "c9600c58-02a3-41de-86ee-c31e38c12eb5",
   "metadata": {},
   "source": [
    "Q1. Write a Python function that takes in two arrays of data and calculates the F-value for a variance ratio\n",
    "test. The function should return the F-value and the corresponding p-value for the test."
   ]
  },
  {
   "cell_type": "code",
   "execution_count": 1,
   "id": "1dbda8fc-8a4a-447f-ad95-a5be9ad0ea5a",
   "metadata": {},
   "outputs": [
    {
     "name": "stdout",
     "output_type": "stream",
     "text": [
      "F-value: 0.11737089201877934\n",
      "P-value: 0.7407312041871046\n"
     ]
    }
   ],
   "source": [
    "#Answer\n",
    "\n",
    "from scipy.stats import f_oneway\n",
    "\n",
    "def variance_ratio_test(data1, data2):\n",
    "    \"\"\"\n",
    "    Perform a variance ratio test (F-test) on two arrays of data.\n",
    "\n",
    "    Parameters:\n",
    "    - data1: Array-like. First set of data.\n",
    "    - data2: Array-like. Second set of data.\n",
    "\n",
    "    Returns:\n",
    "    - f_value: The calculated F-value.\n",
    "    - p_value: The corresponding p-value.\n",
    "    \"\"\"\n",
    "\n",
    "    # Perform F-test\n",
    "    f_value, p_value = f_oneway(data1, data2)\n",
    "\n",
    "    return f_value, p_value\n",
    "\n",
    "# Example usage:\n",
    "data1 = [12, 15, 18, 20, 22]\n",
    "data2 = [10, 14, 16, 18, 24]\n",
    "\n",
    "f_value, p_value = variance_ratio_test(data1, data2)\n",
    "\n",
    "print(f'F-value: {f_value}')\n",
    "print(f'P-value: {p_value}')\n"
   ]
  },
  {
   "cell_type": "markdown",
   "id": "d768ab2e-88b4-43b3-a1dd-6c72edbb4923",
   "metadata": {},
   "source": [
    "                      -------------------------------------------------------------------"
   ]
  },
  {
   "cell_type": "markdown",
   "id": "8d353f77-2563-4ccc-a1a2-ec6864c2077a",
   "metadata": {},
   "source": [
    "Q2. Given a significance level of 0.05 and the degrees of freedom for the numerator and denominator of an\n",
    "F-distribution, write a Python function that returns the critical F-value for a two-tailed test."
   ]
  },
  {
   "cell_type": "code",
   "execution_count": 2,
   "id": "83aa704a-fa4b-4e0c-9a2f-a27f0a2527f2",
   "metadata": {},
   "outputs": [
    {
     "name": "stdout",
     "output_type": "stream",
     "text": [
      "Critical F-value: 3.8586986662732143\n"
     ]
    }
   ],
   "source": [
    "#Answer\n",
    "\n",
    "from scipy.stats import f\n",
    "\n",
    "def critical_f_value(alpha, df_num, df_denom):\n",
    "    \"\"\"\n",
    "    Calculate the critical F-value for a two-tailed test.\n",
    "\n",
    "    Parameters:\n",
    "    - alpha: Significance level.\n",
    "    - df_num: Degrees of freedom for the numerator.\n",
    "    - df_denom: Degrees of freedom for the denominator.\n",
    "\n",
    "    Returns:\n",
    "    - critical_f: The critical F-value.\n",
    "    \"\"\"\n",
    "\n",
    "    # Calculate the critical F-value\n",
    "    critical_f = f.ppf(1 - alpha / 2, df_num, df_denom)\n",
    "\n",
    "    return critical_f\n",
    "\n",
    "# Example usage:\n",
    "alpha = 0.05\n",
    "df_num = 3\n",
    "df_denom = 20\n",
    "\n",
    "critical_f = critical_f_value(alpha, df_num, df_denom)\n",
    "print(f'Critical F-value: {critical_f}')\n"
   ]
  },
  {
   "cell_type": "markdown",
   "id": "61e7fe27-1fe2-442b-9990-ddf2b4958328",
   "metadata": {},
   "source": [
    "                      -------------------------------------------------------------------"
   ]
  },
  {
   "cell_type": "markdown",
   "id": "6d6461de-848d-450a-b990-49322514a2c8",
   "metadata": {},
   "source": [
    "Q3. Write a Python program that generates random samples from two normal distributions with known\n",
    "variances and uses an F-test to determine if the variances are equal. The program should output the Fvalue, degrees of freedom, and p-value for the test."
   ]
  },
  {
   "cell_type": "code",
   "execution_count": 3,
   "id": "c4a31648-0450-4cfb-939c-2fdc5b78a13c",
   "metadata": {},
   "outputs": [
    {
     "name": "stdout",
     "output_type": "stream",
     "text": [
      "F-value: 1.9730705883534192\n",
      "Degrees of Freedom (Between): 49\n",
      "Degrees of Freedom (Within): 98\n",
      "P-value: 0.004439169697953105\n"
     ]
    }
   ],
   "source": [
    "#Answer\n",
    "\n",
    "import numpy as np\n",
    "from scipy.stats import f\n",
    "\n",
    "def f_test_for_equal_variances(data1, data2):\n",
    "    \"\"\"\n",
    "    Perform an F-test for equal variances on two sets of data.\n",
    "\n",
    "    Parameters:\n",
    "    - data1: Array-like. First set of data.\n",
    "    - data2: Array-like. Second set of data.\n",
    "\n",
    "    Returns:\n",
    "    - f_value: The calculated F-value.\n",
    "    - df_between: Degrees of freedom between groups.\n",
    "    - df_within: Degrees of freedom within groups.\n",
    "    - p_value: The corresponding p-value.\n",
    "    \"\"\"\n",
    "\n",
    "    # Calculate variances\n",
    "    var1 = np.var(data1, ddof=1)\n",
    "    var2 = np.var(data2, ddof=1)\n",
    "\n",
    "    # Perform F-test\n",
    "    f_value = var1 / var2 if var1 > var2 else var2 / var1\n",
    "    df_between = len(data1) - 1\n",
    "    df_within = len(data1) + len(data2) - 2\n",
    "    p_value = 2 * min(f.cdf(f_value, df_between, df_within), 1 - f.cdf(f_value, df_between, df_within))\n",
    "\n",
    "    return f_value, df_between, df_within, p_value\n",
    "\n",
    "# Example usage:\n",
    "np.random.seed(42)\n",
    "\n",
    "# Generate random samples from normal distributions with known variances\n",
    "data1 = np.random.normal(0, 1, 50)  # Example data with variance = 1\n",
    "data2 = np.random.normal(0, 1.5, 50)  # Example data with variance = 1.5\n",
    "\n",
    "# Perform F-test for equal variances\n",
    "f_value, df_between, df_within, p_value = f_test_for_equal_variances(data1, data2)\n",
    "\n",
    "# Display results\n",
    "print(f'F-value: {f_value}')\n",
    "print(f'Degrees of Freedom (Between): {df_between}')\n",
    "print(f'Degrees of Freedom (Within): {df_within}')\n",
    "print(f'P-value: {p_value}')\n"
   ]
  },
  {
   "cell_type": "markdown",
   "id": "ab68aa9b-06e7-48ba-9454-ab662e3c7fc2",
   "metadata": {},
   "source": [
    "                      -------------------------------------------------------------------"
   ]
  },
  {
   "cell_type": "markdown",
   "id": "7b217c55-7870-4d79-845e-ac0b1ec0d88e",
   "metadata": {},
   "source": [
    "Q4.The variances of two populations are known to be 10 and 15. A sample of 12 observations is taken from\n",
    "each population. Conduct an F-test at the 5% significance level to determine if the variances are\n",
    "significantly different"
   ]
  },
  {
   "cell_type": "code",
   "execution_count": 5,
   "id": "d01c6029-65e5-4fe4-aa1a-cd5c9feb57f6",
   "metadata": {},
   "outputs": [
    {
     "name": "stdout",
     "output_type": "stream",
     "text": [
      "Calculated F-value: 0.6666666666666666\n",
      "Critical F-value: 3.473699051085809\n",
      "Fail to reject the null hypothesis. No significant difference in variances.\n"
     ]
    }
   ],
   "source": [
    "#Answer\n",
    "\n",
    "from scipy.stats import f\n",
    "\n",
    "# Given data\n",
    "variance1 = 10\n",
    "variance2 = 15\n",
    "sample_size1 = 12\n",
    "sample_size2 = 12\n",
    "significance_level = 0.05\n",
    "\n",
    "# Degrees of freedom\n",
    "df1 = sample_size1 - 1\n",
    "df2 = sample_size2 - 1\n",
    "\n",
    "# Critical F-value\n",
    "critical_f = f.ppf(1 - significance_level / 2, df1, df2)\n",
    "\n",
    "# Calculated F-value\n",
    "f_value = variance1 / variance2\n",
    "\n",
    "# Compare with critical F-value\n",
    "if f_value > critical_f:\n",
    "    print(f'Calculated F-value: {f_value}')\n",
    "    print(f'Critical F-value: {critical_f}')\n",
    "    print('Reject the null hypothesis. Variances are significantly different.')\n",
    "else:\n",
    "    print(f'Calculated F-value: {f_value}')\n",
    "    print(f'Critical F-value: {critical_f}')\n",
    "    print('Fail to reject the null hypothesis. No significant difference in variances.')\n"
   ]
  },
  {
   "cell_type": "markdown",
   "id": "cefbaf43-6ff9-49ad-b189-2a56c6f188e8",
   "metadata": {},
   "source": [
    "                      -------------------------------------------------------------------"
   ]
  },
  {
   "cell_type": "markdown",
   "id": "983b6dbe-d64d-4600-89cf-74210285e677",
   "metadata": {},
   "source": [
    "Q5. A manufacturer claims that the variance of the diameter of a certain product is 0.005. A sample of 25\n",
    "products is taken, and the sample variance is found to be 0.006. Conduct an F-test at the 1% significance\n",
    "level to determine if the claim is justified.\n",
    "\n"
   ]
  },
  {
   "cell_type": "code",
   "execution_count": 13,
   "id": "c67726a7-8ae8-46db-b04c-93fda859241d",
   "metadata": {},
   "outputs": [
    {
     "name": "stdout",
     "output_type": "stream",
     "text": [
      "Calculated F-value: 1.2\n",
      "Critical F-values: nan and nan\n",
      "Fail to reject the null hypothesis. No significant difference in variances.\n"
     ]
    }
   ],
   "source": [
    "from scipy.stats import f\n",
    "\n",
    "# Given data\n",
    "claimed_variance = 0.005\n",
    "sample_variance = 0.006\n",
    "sample_size = 25\n",
    "significance_level = 0.01\n",
    "\n",
    "# Degrees of freedom\n",
    "df_between = sample_size - 1\n",
    "\n",
    "# Calculate the critical F-values with error handling\n",
    "try:\n",
    "    critical_f_lower = f.ppf(significance_level / 2, df_between, np.inf)\n",
    "    critical_f_upper = f.ppf(1 - significance_level / 2, df_between, np.inf)\n",
    "except ValueError as e:\n",
    "    print(f'Error calculating critical F-values: {e}')\n",
    "    critical_f_lower = None\n",
    "    critical_f_upper = None\n",
    "\n",
    "# Check if critical F-values are valid\n",
    "if critical_f_lower is not None and critical_f_upper is not None:\n",
    "    # Calculated F-value\n",
    "    f_value = sample_variance / claimed_variance\n",
    "\n",
    "    # Compare with valid critical F-values\n",
    "    if f_value < critical_f_lower or f_value > critical_f_upper:\n",
    "        print(f'Calculated F-value: {f_value}')\n",
    "        print(f'Critical F-values: {critical_f_lower} and {critical_f_upper}')\n",
    "        print('Reject the null hypothesis. Population variance is significantly different from the claimed variance.')\n",
    "    else:\n",
    "        print(f'Calculated F-value: {f_value}')\n",
    "        print(f'Critical F-values: {critical_f_lower} and {critical_f_upper}')\n",
    "        print('Fail to reject the null hypothesis. No significant difference in variances.')\n",
    "else:\n",
    "    print('Unable to perform the F-test due to invalid critical F-values.')\n"
   ]
  },
  {
   "cell_type": "markdown",
   "id": "4bd56842-96dd-463e-9a53-abe5f7acc2c6",
   "metadata": {},
   "source": [
    "                       -------------------------------------------------------------------"
   ]
  },
  {
   "cell_type": "markdown",
   "id": "aec44f39-9fb4-4747-a1ac-13c39ae54e84",
   "metadata": {},
   "source": [
    "Q6. Write a Python function that takes in the degrees of freedom for the numerator and denominator of an\n",
    "F-distribution and calculates the mean and variance of the distribution. The function should return the\n",
    "mean and variance as a tuple."
   ]
  },
  {
   "cell_type": "code",
   "execution_count": 9,
   "id": "e56c2925-c023-4f09-be5d-2b3737280d6d",
   "metadata": {},
   "outputs": [
    {
     "name": "stdout",
     "output_type": "stream",
     "text": [
      "Mean of the F-distribution: 1.1111111111111112\n",
      "Variance of the F-distribution: 1.0802469135802468\n"
     ]
    }
   ],
   "source": [
    "#Answer\n",
    "\n",
    "def f_distribution_mean_variance(df_between, df_within):\n",
    "    \"\"\"\n",
    "    Calculate the mean and variance of the F-distribution.\n",
    "\n",
    "    Parameters:\n",
    "    - df_between: Degrees of freedom for the numerator.\n",
    "    - df_within: Degrees of freedom for the denominator.\n",
    "\n",
    "    Returns:\n",
    "    - mean: Mean of the F-distribution.\n",
    "    - variance: Variance of the F-distribution.\n",
    "    \"\"\"\n",
    "    if df_between <= 0 or df_within <= 0:\n",
    "        raise ValueError(\"Degrees of freedom must be positive integers.\")\n",
    "\n",
    "    mean = df_within / (df_within - 2)  # For df_within > 2\n",
    "    variance_numerator = 2 * (df_within**2) * (df_between + df_within - 2)\n",
    "    variance_denominator = df_between * (df_within - 2)**2 * (df_within - 4)\n",
    "    variance = variance_numerator / variance_denominator  # For df_within > 4\n",
    "\n",
    "    return mean, variance\n",
    "\n",
    "# Example usage:\n",
    "df_between = 3\n",
    "df_within = 20\n",
    "\n",
    "mean, variance = f_distribution_mean_variance(df_between, df_within)\n",
    "print(f'Mean of the F-distribution: {mean}')\n",
    "print(f'Variance of the F-distribution: {variance}')\n"
   ]
  },
  {
   "cell_type": "markdown",
   "id": "ee62baba-6d8c-4321-8303-ffb9d56b0035",
   "metadata": {},
   "source": [
    "                       -------------------------------------------------------------------"
   ]
  },
  {
   "cell_type": "markdown",
   "id": "0b6c504d-1121-4920-86c4-1fcdcca0e80c",
   "metadata": {},
   "source": [
    "Q7. A random sample of 10 measurements is taken from a normal population with unknown variance. The\n",
    "sample variance is found to be 25. Another random sample of 15 measurements is taken from another\n",
    "normal population with unknown variance, and the sample variance is found to be 20. Conduct an F-test\n",
    "at the 10% significance level to determine if the variances are significantly different."
   ]
  },
  {
   "cell_type": "code",
   "execution_count": 33,
   "id": "496f99ac-46df-4d0e-bb61-f451a97ec043",
   "metadata": {},
   "outputs": [
    {
     "name": "stdout",
     "output_type": "stream",
     "text": [
      "F-Value: 1.25\n",
      "Critical F-values: 0.16423865192974754 and 4.71726384539371\n",
      "Fail to reject the null hypothesis. There is no significant difference between the two variances.\n"
     ]
    }
   ],
   "source": [
    "from scipy.stats import f\n",
    "\n",
    "#given data\n",
    "sample_size1 = 10\n",
    "sample_variance1 = 25\n",
    "sample_size2 = 15\n",
    "sample_variance2 = 20\n",
    "significance_value = 0.10\n",
    "\n",
    "\n",
    "#degree of freedom\n",
    "df1 = sample_size1-1\n",
    "df2 = sample_size2-1\n",
    "\n",
    "# Critical F-values\n",
    "critical_f_lower = f.ppf(significance_level / 2, df1, df2)\n",
    "critical_f_upper = f.ppf(1 - significance_level / 2, df1, df2)\n",
    "\n",
    "#calculate F_value\n",
    "f_value = sample_variance1/sample_variance2\n",
    "\n",
    "#interpret the results\n",
    "if f_value < critical_f_lower or f_value > critical_f_upper:\n",
    "    \n",
    "    print(f\"F-Value: {f_value}\")\n",
    "    print(f\"Critical F-values: {critical_f_lower} and {critical_f_upper}\")\n",
    "    print(\"Reject the null hypothesis. There is a significant difference between the two variances.\")\n",
    "else:\n",
    "    print(f\"F-Value: {f_value}\")\n",
    "    print(f\"Critical F-values: {critical_f_lower} and {critical_f_upper}\")\n",
    "    print(\"Fail to reject the null hypothesis. There is no significant difference between the two variances.\")\n",
    "\n",
    "\n"
   ]
  },
  {
   "cell_type": "markdown",
   "id": "6eca2e45-9f2f-4ba1-a29d-6bc6616ab328",
   "metadata": {},
   "source": [
    "                       -------------------------------------------------------------------"
   ]
  },
  {
   "cell_type": "markdown",
   "id": "8f079ba3-c334-4408-bade-c8a998e6e329",
   "metadata": {},
   "source": [
    "Q8. The following data represent the waiting times in minutes at two different restaurants on a Saturday\n",
    "night: Restaurant A: 24, 25, 28, 23, 22, 20, 27; Restaurant B: 31, 33, 35, 30, 32, 36. Conduct an F-test at the 5%\n",
    "significance level to determine if the variances are significantly different.\n"
   ]
  },
  {
   "cell_type": "code",
   "execution_count": 32,
   "id": "f7c1f254-25eb-4d5a-8c54-f4c00c8674eb",
   "metadata": {},
   "outputs": [
    {
     "name": "stdout",
     "output_type": "stream",
     "text": [
      "F-value:1.496767651159843\n",
      "F-critcal-values:0.16701279718024772and6.977701858535566\n",
      "we failed to reject null hypothesis, there is no significance difference between variables\n"
     ]
    }
   ],
   "source": [
    "from scipy.stats import f\n",
    "import numpy as np\n",
    "\n",
    "#given data\n",
    "Samplesize_A = 7\n",
    "Samplesize_B = 6\n",
    "significance_value = 0.05\n",
    "\n",
    "restaurantA_waittime = [24, 25, 28, 23, 22, 20, 27]\n",
    "restaurantB_waittime = [31, 33, 35, 30, 32, 36]\n",
    "\n",
    "\n",
    "#calculating variance of both restaurant\n",
    "var_restaurantA = np.var(restaurantA_waittime)\n",
    "var_restaurantB = np.var(restaurantB_waittime)\n",
    "\n",
    "#degree of freedom\n",
    "df1 = Samplesize_A-1\n",
    "df2 = Samplesize_B-1\n",
    "\n",
    "#calculate f_critical\n",
    "critical_f_lower = f.ppf(significance_value/2,df1,df2)\n",
    "critical_f_upper = f.ppf(1-significance_value/2,df1,df2)\n",
    "\n",
    "\n",
    "#calculate F_value\n",
    "f_value = var_restaurantA/var_restaurantB\n",
    "\n",
    "\n",
    "#interpret my result\n",
    "if f_value<critical_f_lower or f_value>critical_f_upper:\n",
    "    print(f\"F-value:{f_value}\")\n",
    "    print(f\"F-critcal-values:{critical_f_lower}and{critical_f_upper}\")\n",
    "    print(\"we reject null hypothesis, there is a significance difference between variables\")\n",
    "    \n",
    "else:\n",
    "    \n",
    "    print(f\"F-value:{f_value}\")\n",
    "    print(f\"F-critcal-values:{critical_f_lower}and{critical_f_upper}\")\n",
    "    print(\"we failed to reject null hypothesis, there is no significance difference between variables\")"
   ]
  },
  {
   "cell_type": "markdown",
   "id": "c17c6c93-e25f-48f3-af4a-c186824737b5",
   "metadata": {},
   "source": [
    "                       -------------------------------------------------------------------"
   ]
  },
  {
   "cell_type": "markdown",
   "id": "af27f038-dd5e-4527-859f-657a3da29fec",
   "metadata": {},
   "source": [
    "Q9. The following data represent the test scores of two groups of students: Group A: 80, 85, 90, 92, 87, 83;\n",
    "Group B: 75, 78, 82, 79, 81, 84. Conduct an F-test at the 1% significance level to determine if the variances\n",
    "are significantly different."
   ]
  },
  {
   "cell_type": "code",
   "execution_count": 30,
   "id": "5ca6a670-7777-49e9-9401-a77196c3b6d2",
   "metadata": {},
   "outputs": [
    {
     "name": "stdout",
     "output_type": "stream",
     "text": [
      "F-value:1.9442622950819677\n",
      "F-critical:0.066936171954696and14.939605459912224\n",
      "we failed to reject null hypothesis, there is no significant difference between variances of two groups\n"
     ]
    }
   ],
   "source": [
    "from scipy.stats import f\n",
    "import numpy as np\n",
    "\n",
    "#given data\n",
    "marks_groupA= [80, 85, 90, 92, 87, 83]\n",
    "marks_groupb=[75, 78, 82, 79, 81, 84]\n",
    "\n",
    "significance_value = 0.01\n",
    "\n",
    "#sample size\n",
    "sampleSize_A = len(marks_groupA)\n",
    "sampleSize_B = len(marks_groupb)\n",
    "\n",
    "#degree of freedom\n",
    "df1 = sampleSize_A-1\n",
    "df2 = sampleSize_B-1\n",
    "\n",
    "#calculate variance of both groups\n",
    "Var_group_A =np.var(marks_groupA, ddof =1)\n",
    "Var_group_B = np.var(marks_groupb, ddof = 1)\n",
    "\n",
    "#calculate f_critical\n",
    "lower_f_critical = f.ppf(significance_value/2, df1,df2)\n",
    "upper_f_critical = f.ppf(1-significance_value/2, df1,df2)\n",
    "\n",
    "#calculate f_value\n",
    "f_value = Var_group_A/Var_group_B\n",
    "\n",
    "#interpret results\n",
    "if f_value<lower_f_critical or f_value>upper_f_critical:\n",
    "    print(f\"F-value:{f_value}\")\n",
    "    print(f\"F-critical:{lower_f_critical}and{upper_f_critical}\")\n",
    "    print(\"we reject the null hypothesis, there is a significant difference between variances of two groups\")\n",
    "    \n",
    "else:\n",
    "    \n",
    "    print(f\"F-value:{f_value}\")\n",
    "    print(f\"F-critical:{lower_f_critical}and{upper_f_critical}\")\n",
    "    print(\"we failed to reject null hypothesis, there is no significant difference between variances of two groups\")"
   ]
  },
  {
   "cell_type": "markdown",
   "id": "c195c9bd-aba6-49ad-a195-6b541eb54fb2",
   "metadata": {},
   "source": [
    "                        -------------------------------------------------------------------"
   ]
  }
 ],
 "metadata": {
  "kernelspec": {
   "display_name": "Python 3 (ipykernel)",
   "language": "python",
   "name": "python3"
  },
  "language_info": {
   "codemirror_mode": {
    "name": "ipython",
    "version": 3
   },
   "file_extension": ".py",
   "mimetype": "text/x-python",
   "name": "python",
   "nbconvert_exporter": "python",
   "pygments_lexer": "ipython3",
   "version": "3.10.8"
  }
 },
 "nbformat": 4,
 "nbformat_minor": 5
}
